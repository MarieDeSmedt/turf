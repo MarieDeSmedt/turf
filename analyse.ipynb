{
    "cells": [
        {
            "cell_type": "code",
            "execution_count": 102,
            "source": [
                "import pandas as pd\n",
                "import numpy as np\n",
                "import tensorflow as tf\n",
                "import sklearn.preprocessing as preprocessing\n",
                "import sklearn.model_selection as model_selection\n",
                "import matplotlib.pyplot as plt\n",
                "import mysql.connector"
            ],
            "outputs": [],
            "metadata": {}
        },
        {
            "cell_type": "code",
            "execution_count": 103,
            "source": [
                "pd.get_option(\"display.max_columns\")\n",
                "pd.set_option(\"display.max_rows\", None)"
            ],
            "outputs": [],
            "metadata": {}
        },
        {
            "cell_type": "code",
            "execution_count": 104,
            "source": [
                "mydb = mysql.connector.connect(\n",
                "  host=\"localhost\",\n",
                "  user=\"marie\",\n",
                "  password=\"marikiki9283\",\n",
                "  database=\"pturf1\"\n",
                ")\n",
                "\n",
                "df = pd.read_sql('SELECT * FROM cachedate LIMIT 10000', con=mydb)"
            ],
            "outputs": [],
            "metadata": {}
        },
        {
            "cell_type": "code",
            "execution_count": 105,
            "source": [
                "df.shape"
            ],
            "outputs": [
                {
                    "output_type": "execute_result",
                    "data": {
                        "text/plain": [
                            "(10000, 124)"
                        ]
                    },
                    "metadata": {},
                    "execution_count": 105
                }
            ],
            "metadata": {}
        },
        {
            "cell_type": "code",
            "execution_count": 114,
            "source": [
                "df.head()"
            ],
            "outputs": [
                {
                    "output_type": "execute_result",
                    "data": {
                        "text/plain": [
                            "        id    comp        jour      hippo  numcourse   cl  dist  partant  \\\n",
                            "0  2000001  200000  2014-04-17  Newmarket  402800000   6e  2000        8   \n",
                            "1  2000002  200000  2014-04-17  Newmarket  402800000   2e  2000        8   \n",
                            "2  2000003  200000  2014-04-17  Newmarket  402800000   5e  2000        8   \n",
                            "3  2000004  200000  2014-04-17  Newmarket  402800000   3e  2000        8   \n",
                            "4  2000005  200000  2014-04-17  Newmarket  402800000  1er  2000        8   \n",
                            "\n",
                            "  typec     cheque  ...           updatedat rangTxVictJock rangTxVictCheval  \\\n",
                            "0  Plat  200.000 £  ... 2020-08-03 18:33:59              0                0   \n",
                            "1  Plat  200.000 £  ... 2020-08-03 18:33:59              0                0   \n",
                            "2  Plat  200.000 £  ... 2020-08-03 18:33:59              0                0   \n",
                            "3  Plat  200.000 £  ... 2020-08-03 18:33:59              0                0   \n",
                            "4  Plat  200.000 £  ... 2020-08-03 18:33:59              0                0   \n",
                            "\n",
                            "   rangTxVictEnt  rangTxPlaceJock  rangTxPlaceCheval  rangTxPlaceEnt  \\\n",
                            "0              0                0                  0               0   \n",
                            "1              0                0                  0               0   \n",
                            "2              0                0                  0               0   \n",
                            "3              0                0                  0               0   \n",
                            "4              0                0                  0               0   \n",
                            "\n",
                            "  rangRecordG appetTerrain   idChe  \n",
                            "0           0            0  445895  \n",
                            "1           0            0  445869  \n",
                            "2           0            0  445872  \n",
                            "3           0            0  449402  \n",
                            "4           0            0  451463  \n",
                            "\n",
                            "[5 rows x 122 columns]"
                        ],
                        "text/html": [
                            "<div>\n",
                            "<style scoped>\n",
                            "    .dataframe tbody tr th:only-of-type {\n",
                            "        vertical-align: middle;\n",
                            "    }\n",
                            "\n",
                            "    .dataframe tbody tr th {\n",
                            "        vertical-align: top;\n",
                            "    }\n",
                            "\n",
                            "    .dataframe thead th {\n",
                            "        text-align: right;\n",
                            "    }\n",
                            "</style>\n",
                            "<table border=\"1\" class=\"dataframe\">\n",
                            "  <thead>\n",
                            "    <tr style=\"text-align: right;\">\n",
                            "      <th></th>\n",
                            "      <th>id</th>\n",
                            "      <th>comp</th>\n",
                            "      <th>jour</th>\n",
                            "      <th>hippo</th>\n",
                            "      <th>numcourse</th>\n",
                            "      <th>cl</th>\n",
                            "      <th>dist</th>\n",
                            "      <th>partant</th>\n",
                            "      <th>typec</th>\n",
                            "      <th>cheque</th>\n",
                            "      <th>...</th>\n",
                            "      <th>updatedat</th>\n",
                            "      <th>rangTxVictJock</th>\n",
                            "      <th>rangTxVictCheval</th>\n",
                            "      <th>rangTxVictEnt</th>\n",
                            "      <th>rangTxPlaceJock</th>\n",
                            "      <th>rangTxPlaceCheval</th>\n",
                            "      <th>rangTxPlaceEnt</th>\n",
                            "      <th>rangRecordG</th>\n",
                            "      <th>appetTerrain</th>\n",
                            "      <th>idChe</th>\n",
                            "    </tr>\n",
                            "  </thead>\n",
                            "  <tbody>\n",
                            "    <tr>\n",
                            "      <th>0</th>\n",
                            "      <td>2000001</td>\n",
                            "      <td>200000</td>\n",
                            "      <td>2014-04-17</td>\n",
                            "      <td>Newmarket</td>\n",
                            "      <td>402800000</td>\n",
                            "      <td>6e</td>\n",
                            "      <td>2000</td>\n",
                            "      <td>8</td>\n",
                            "      <td>Plat</td>\n",
                            "      <td>200.000 £</td>\n",
                            "      <td>...</td>\n",
                            "      <td>2020-08-03 18:33:59</td>\n",
                            "      <td>0</td>\n",
                            "      <td>0</td>\n",
                            "      <td>0</td>\n",
                            "      <td>0</td>\n",
                            "      <td>0</td>\n",
                            "      <td>0</td>\n",
                            "      <td>0</td>\n",
                            "      <td>0</td>\n",
                            "      <td>445895</td>\n",
                            "    </tr>\n",
                            "    <tr>\n",
                            "      <th>1</th>\n",
                            "      <td>2000002</td>\n",
                            "      <td>200000</td>\n",
                            "      <td>2014-04-17</td>\n",
                            "      <td>Newmarket</td>\n",
                            "      <td>402800000</td>\n",
                            "      <td>2e</td>\n",
                            "      <td>2000</td>\n",
                            "      <td>8</td>\n",
                            "      <td>Plat</td>\n",
                            "      <td>200.000 £</td>\n",
                            "      <td>...</td>\n",
                            "      <td>2020-08-03 18:33:59</td>\n",
                            "      <td>0</td>\n",
                            "      <td>0</td>\n",
                            "      <td>0</td>\n",
                            "      <td>0</td>\n",
                            "      <td>0</td>\n",
                            "      <td>0</td>\n",
                            "      <td>0</td>\n",
                            "      <td>0</td>\n",
                            "      <td>445869</td>\n",
                            "    </tr>\n",
                            "    <tr>\n",
                            "      <th>2</th>\n",
                            "      <td>2000003</td>\n",
                            "      <td>200000</td>\n",
                            "      <td>2014-04-17</td>\n",
                            "      <td>Newmarket</td>\n",
                            "      <td>402800000</td>\n",
                            "      <td>5e</td>\n",
                            "      <td>2000</td>\n",
                            "      <td>8</td>\n",
                            "      <td>Plat</td>\n",
                            "      <td>200.000 £</td>\n",
                            "      <td>...</td>\n",
                            "      <td>2020-08-03 18:33:59</td>\n",
                            "      <td>0</td>\n",
                            "      <td>0</td>\n",
                            "      <td>0</td>\n",
                            "      <td>0</td>\n",
                            "      <td>0</td>\n",
                            "      <td>0</td>\n",
                            "      <td>0</td>\n",
                            "      <td>0</td>\n",
                            "      <td>445872</td>\n",
                            "    </tr>\n",
                            "    <tr>\n",
                            "      <th>3</th>\n",
                            "      <td>2000004</td>\n",
                            "      <td>200000</td>\n",
                            "      <td>2014-04-17</td>\n",
                            "      <td>Newmarket</td>\n",
                            "      <td>402800000</td>\n",
                            "      <td>3e</td>\n",
                            "      <td>2000</td>\n",
                            "      <td>8</td>\n",
                            "      <td>Plat</td>\n",
                            "      <td>200.000 £</td>\n",
                            "      <td>...</td>\n",
                            "      <td>2020-08-03 18:33:59</td>\n",
                            "      <td>0</td>\n",
                            "      <td>0</td>\n",
                            "      <td>0</td>\n",
                            "      <td>0</td>\n",
                            "      <td>0</td>\n",
                            "      <td>0</td>\n",
                            "      <td>0</td>\n",
                            "      <td>0</td>\n",
                            "      <td>449402</td>\n",
                            "    </tr>\n",
                            "    <tr>\n",
                            "      <th>4</th>\n",
                            "      <td>2000005</td>\n",
                            "      <td>200000</td>\n",
                            "      <td>2014-04-17</td>\n",
                            "      <td>Newmarket</td>\n",
                            "      <td>402800000</td>\n",
                            "      <td>1er</td>\n",
                            "      <td>2000</td>\n",
                            "      <td>8</td>\n",
                            "      <td>Plat</td>\n",
                            "      <td>200.000 £</td>\n",
                            "      <td>...</td>\n",
                            "      <td>2020-08-03 18:33:59</td>\n",
                            "      <td>0</td>\n",
                            "      <td>0</td>\n",
                            "      <td>0</td>\n",
                            "      <td>0</td>\n",
                            "      <td>0</td>\n",
                            "      <td>0</td>\n",
                            "      <td>0</td>\n",
                            "      <td>0</td>\n",
                            "      <td>451463</td>\n",
                            "    </tr>\n",
                            "  </tbody>\n",
                            "</table>\n",
                            "<p>5 rows × 122 columns</p>\n",
                            "</div>"
                        ]
                    },
                    "metadata": {},
                    "execution_count": 114
                }
            ],
            "metadata": {}
        },
        {
            "cell_type": "code",
            "execution_count": 106,
            "source": [
                "#recherche des valeurs manquantes:\n",
                "\n",
                "# print(df.isnull().sum()) \n",
                "print(df.shape)"
            ],
            "outputs": [
                {
                    "output_type": "stream",
                    "name": "stdout",
                    "text": [
                        "(10000, 124)\n"
                    ]
                }
            ],
            "metadata": {}
        },
        {
            "cell_type": "code",
            "execution_count": 107,
            "source": [
                "df = df.drop(columns=['distpoids', 'recordG'])"
            ],
            "outputs": [],
            "metadata": {}
        },
        {
            "cell_type": "code",
            "execution_count": 108,
            "source": [
                "df.dropna()\n",
                "df.shape"
            ],
            "outputs": [
                {
                    "output_type": "execute_result",
                    "data": {
                        "text/plain": [
                            "(10000, 122)"
                        ]
                    },
                    "metadata": {},
                    "execution_count": 108
                }
            ],
            "metadata": {}
        },
        {
            "cell_type": "code",
            "execution_count": 113,
            "source": [
                "# df.dtypes"
            ],
            "outputs": [],
            "metadata": {}
        },
        {
            "cell_type": "code",
            "execution_count": 110,
            "source": [
                "# recherche de doublons\n",
                "print(df.duplicated().value_counts())"
            ],
            "outputs": [
                {
                    "output_type": "stream",
                    "name": "stdout",
                    "text": [
                        "False    10000\n",
                        "dtype: int64\n"
                    ]
                }
            ],
            "metadata": {}
        },
        {
            "cell_type": "code",
            "execution_count": null,
            "source": [],
            "outputs": [],
            "metadata": {}
        }
    ],
    "metadata": {
        "orig_nbformat": 4,
        "language_info": {
            "name": "python",
            "version": "3.8.10",
            "mimetype": "text/x-python",
            "codemirror_mode": {
                "name": "ipython",
                "version": 3
            },
            "pygments_lexer": "ipython3",
            "nbconvert_exporter": "python",
            "file_extension": ".py"
        },
        "kernelspec": {
            "name": "python3",
            "display_name": "Python 3.8.10 64-bit"
        },
        "interpreter": {
            "hash": "916dbcbb3f70747c44a77c7bcd40155683ae19c65e1c03b4aa3499c5328201f1"
        }
    },
    "nbformat": 4,
    "nbformat_minor": 2
}